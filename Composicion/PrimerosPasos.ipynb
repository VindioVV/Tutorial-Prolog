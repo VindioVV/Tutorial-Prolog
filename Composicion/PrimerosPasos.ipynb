{
 "cells": [
  {
   "cell_type": "markdown",
   "id": "8f0b3710-9f0b-4283-a154-9a885c50b4e5",
   "metadata": {
    "editable": true,
    "slideshow": {
     "slide_type": ""
    }
   },
   "source": [
    "<p style=\"text-align: center;\">\n",
    "Explicación en profundidad sobre lenguajes declarativos vs lenguajes imperativos.\n",
    "Como pensar en Prolog.\n",
    "Ejemplos varios sobre las diferentes maneras de programar.\n",
    "Imperativo:Persona que sigue una receta y va haciendo cosas.\n",
    "Declarativo:Persona con TDAH que si no tiene todo lo que necesita se deprime y no hace nada.</p>"
   ]
  },
  {
   "cell_type": "markdown",
   "id": "5caf4593-fbe3-40f9-8d99-c640dd0bfcbe",
   "metadata": {},
   "source": []
  },
  {
   "cell_type": "markdown",
   "id": "16066fb3-34a1-4713-bbfd-7015a54396d7",
   "metadata": {
    "editable": true,
    "slideshow": {
     "slide_type": ""
    }
   },
   "source": [
    "<div style=\"text-align: center;\">En primer lugar, nos vamos a centrar en el cambio de paradigma.\n",
    "Como mencioné anteriormente, Prolog es un lenguaje **declarativo**. \n",
    "    Quizás no hayas oído hablar de paradigmas de programación, pero con casi total seguridad tienes experiencia en algún lenguaje imperativo.\n",
    "Los lenguajes imperativos, como Java, Python o C++, se centran en **cómo** hacer las cosas. Prolog, y los demás lenguajes declarativos como SQL, se centran en **qué** se debe hacer. Podríamos plantear un metáfora sobre la manera de operar de diferentes personas frente a una tarea, como podría ser hacer una tarta.  \n",
    "    \n",
    "Primero vamos a pensar en una persona \"normal\". Cuando se le asigna una tarea como esta, definirá una serie de pasos de la A a la G e irá realizando cada uno de ellos de manera secuencial.\n",
    "    \n",
    "    A- Batir huevos.\n",
    "    B- Mezclar los ingredientes secos.\n",
    "    C- Mezclar los ingredientes húmedos.\n",
    "    D- Echar la mezcla en un molde.\n",
    "    E- Meter la tarta en el horno a 180º.\n",
    "    F- Sacar la tarta a los 20 minutos.\n",
    "    G- Decorar y servir.\n",
    "\n",
    "Ahora bien, ¿qué ocurre si no hay huevos? ¿O si al mezclar los ingredientes nos falta leche? ¿Y si el horno de repente no funciona? Esto es lo que conocemos como **excepciones**. Posibilidades no contempladas en el flujo original. En este caso, la excepción se podrá tratar de varias maneras, pidiendo ingredientes al vecino, sustituyendo elementos, yendo a comprar o tirando con enfado la tarta a medio hacer por la ventana y pasando del tema.\n",
    "\n",
    "Sin embargo, si ponemos a una persona con TDAH a hacer la misma tarta, esta persona primero revisará que tiene todo lo que necesita para realizar la tarta, negándose siquiera a empezar en caso de que le faltara la cosa más nimia.\n",
    "\n",
    "Llevando esto a código, si nosotros quisiéramos hacer un sandwich, podríamos definir una función en Python de la siguiente manera:\n",
    "    \n",
    "    class Sandwich:  \n",
    "    def __init__(self, pan1, pan2, relleno):  \n",
    "        self.pan1 = pan1  \n",
    "        self.pan2 = pan2  \n",
    "        self.relleno = relleno  \n",
    "    \n",
    "    def __str__(self):\n",
    "        return f\"{self.pan1} {self.relleno} {self.pan2}\"\n",
    "\n",
    "    def hacer_sandwich(pan1, pan2, relleno):\n",
    "    sandwich = Sandwich(pan1, pan2, relleno)\n",
    "    return f\"Sándwich pa ti, campeón: {sandwich}\"\n",
    "\n",
    "Que tendría el siguiente output:\n",
    "\n",
    "</div>"
   ]
  },
  {
   "cell_type": "code",
   "execution_count": 1,
   "id": "032f151a-777d-43d9-a803-9eb796e5c7f1",
   "metadata": {
    "editable": true,
    "jupyter": {
     "source_hidden": true
    },
    "scene__Variables": true,
    "slideshow": {
     "slide_type": ""
    },
    "tags": [
     "ActiveScene"
    ]
   },
   "outputs": [
    {
     "data": {
      "application/vnd.jupyter.widget-view+json": {
       "model_id": "70c560ce447f4f82a8210f20ff660fbb",
       "version_major": 2,
       "version_minor": 0
      },
      "text/plain": [
       "Button(description='¡Haz click para hacer un sándwich!', icon='hand-o-up', style=ButtonStyle())"
      ]
     },
     "metadata": {},
     "output_type": "display_data"
    },
    {
     "data": {
      "application/vnd.jupyter.widget-view+json": {
       "model_id": "1740882b8f4a48d39a16e72db59044fb",
       "version_major": 2,
       "version_minor": 0
      },
      "text/plain": [
       "Output()"
      ]
     },
     "metadata": {},
     "output_type": "display_data"
    }
   ],
   "source": [
    "import ipywidgets as widgets\n",
    "from IPython.display import display\n",
    "\n",
    "# Define the Sandwich class and hacer_sandwich function\n",
    "class Sandwich:\n",
    "    def __init__(self, pan1, pan2, relleno):\n",
    "        self.pan1 = pan1\n",
    "        self.pan2 = pan2\n",
    "        self.relleno = relleno\n",
    "    \n",
    "    def __str__(self):\n",
    "        return f\"{self.pan1} {self.relleno} {self.pan2}\"\n",
    "\n",
    "def hacer_sandwich(pan1, pan2, relleno):\n",
    "    sandwich = Sandwich(pan1, pan2, relleno)\n",
    "    return f\"Sándwich pa ti, campeón: {sandwich}\"\n",
    "\n",
    "# Create an Output widget\n",
    "out1 = widgets.Output()\n",
    "\n",
    "# Function to handle button clicks\n",
    "def on_button_clicked(_):\n",
    "    with out1:\n",
    "        out1.clear_output()\n",
    "        # Call the hacer_sandwich function with sample arguments\n",
    "        result = hacer_sandwich(\"Pan Blanco\", \"Pan Integral\", \"Jamón y Queso\")\n",
    "        print(result)\n",
    "\n",
    "# Create a button widget\n",
    "button = widgets.Button(\n",
    "    description='¡Haz click para hacer un sándwich!',\n",
    "    icon='hand-o-up'\n",
    ")\n",
    "\n",
    "# Link button and function together\n",
    "button.on_click(on_button_clicked)\n",
    "\n",
    "# Display the button and output\n",
    "display(button, out1)\n"
   ]
  },
  {
   "cell_type": "markdown",
   "id": "1da0f0d8-fa6d-4192-9f6b-9707bcb21dd4",
   "metadata": {
    "editable": true,
    "slideshow": {
     "slide_type": ""
    }
   },
   "source": [
    "Sin embargo, si quisiéramos hacer lo mismo con Prolog, el código sería el siguiente: \n",
    "\n",
    "pan(rebanada).\n",
    "\n",
    "relleno(jamon_y_queso).\n",
    "\n",
    "relleno(salchicha_y_queso).\n",
    "\n",
    "relleno(huevo_y_bacon).\n",
    "\n",
    "relleno(carne_picada).\n",
    "\n",
    "\n",
    "hacer_sandwich(Sandwich) :- \n",
    "\n",
    "    rebanada_de_pan(Rebanada1),    \n",
    "    rebanada_de_pan(Rebanada2),\n",
    "    relleno(Relleno),    \n",
    "    Sandwich = [Rebanada1, Relleno, Rebanada2]."
   ]
  },
  {
   "cell_type": "code",
   "execution_count": 2,
   "id": "a2a61518-4362-4088-b419-a65bf60e37f7",
   "metadata": {
    "editable": true,
    "jupyter": {
     "source_hidden": true
    },
    "scene__Variables": true,
    "slideshow": {
     "slide_type": ""
    },
    "tags": [
     "ActiveScene"
    ]
   },
   "outputs": [
    {
     "name": "stdout",
     "output_type": "stream",
     "text": [
      "[{'X': ['rebanada', 'jamon_y_queso', 'rebanada']}]\n",
      "[{'X': ['rebanada', 'salchicha_y_queso', 'rebanada']}]\n",
      "[{'X': ['rebanada', 'huevo_y_bacon', 'rebanada']}]\n",
      "[{'X': ['rebanada', 'carne_picada', 'rebanada']}]\n"
     ]
    }
   ],
   "source": [
    "from swiplserver import *\n",
    "\n",
    "with PrologMQI() as mqi:\n",
    "    with mqi.create_thread() as prolog_thread:\n",
    "        result = prolog_thread.query(\"set_prolog_flag(encoding,utf8).\")\n",
    "        try:\n",
    "            result = prolog_thread.query(\"consult(\\\"ejemplos/sandwich.pl\\\")\")\n",
    "            prolog_thread.query_async(\"hacer_sandwich(X).\", find_all=False)        \n",
    "            while True:\n",
    "                result = prolog_thread.query_async_result()\n",
    "                if result is None:\n",
    "                    break\n",
    "                else:\n",
    "                    print(result)        \n",
    "        except Exception as e:\n",
    "            print(e)"
   ]
  },
  {
   "cell_type": "markdown",
   "id": "732670e9-b645-4a5f-95f4-0602f89677e1",
   "metadata": {
    "editable": true,
    "slideshow": {
     "slide_type": ""
    }
   },
   "source": [
    "#### Aquí tenemos uno de los primeros puntos mágicos de Prolog. \n",
    "Nosotros podemos realizar una consulta a este programa sin especificarle nada, y en este caso Prolog nos construirá primorosamente un sándwich para nuestro deleite.\n",
    "No obstante, también podemos optar por especificarle qué cosas queremos en nuestro sandwich, y Prolog intentará hacer un sandwich a partir de esto unificando lo especificado con los hechos en nuestra base de conocimiento y dándonos el ok si puede hacer un sandwich con lo que le proporcionamos, a diferencia de Python que cogerá los ingredientes, los pondrá uno encima del otro y lo llamará sandiwch sin atender a si tiene sentido o no.\n",
    "Poner consulta con hacer_sandwich(Sandwich) que devolverá un sandwich de jamon y queso.\n",
    "Poner un ejemplo de un perrito caliente y que Prolog nos devuelva true.\n",
    "Si.\n",
    "Los perritos calientes son sandwhiches.\n",
    "Es decir, nuestra manera de trabajar aquí debe ser ver como interacionan los elementos entre si a lo largo del ciclo de vida del programa, no establecer una serie de pasos a cumplir y programar posibles desviaciones y excepciones para este patrón. Nuestro trabajo consiste en definir las relaciones de nuestro dominio, en lugar de crear un flujo y tratar la infinidad de errores que pueden surgir por el camino."
   ]
  },
  {
   "cell_type": "markdown",
   "id": "9fbe2fbc-998b-4e82-b988-ad5e0f729ec5",
   "metadata": {
    "editable": true,
    "slideshow": {
     "slide_type": ""
    }
   },
   "source": []
  },
  {
   "cell_type": "code",
   "execution_count": 3,
   "id": "0f2149e5-6200-4062-9c34-097451731e3a",
   "metadata": {
    "editable": true,
    "scene__Variables": true,
    "slideshow": {
     "slide_type": ""
    },
    "tags": [
     "ActiveScene"
    ]
   },
   "outputs": [
    {
     "data": {
      "application/vnd.jupyter.widget-view+json": {
       "model_id": "2ecbe2504d614dadb6a13cd8c33abce7",
       "version_major": 2,
       "version_minor": 0
      },
      "text/plain": [
       "Button(description='¡Haz click para hacer un sándwich!', icon='hand-o-up', style=ButtonStyle())"
      ]
     },
     "metadata": {},
     "output_type": "display_data"
    },
    {
     "data": {
      "application/vnd.jupyter.widget-view+json": {
       "model_id": "4dd160d6e359418286155504faaf4d50",
       "version_major": 2,
       "version_minor": 0
      },
      "text/plain": [
       "VBox()"
      ]
     },
     "metadata": {},
     "output_type": "display_data"
    },
    {
     "data": {
      "application/vnd.jupyter.widget-view+json": {
       "model_id": "3ce972c9e70d4bf09c7b11a0e1ae2cec",
       "version_major": 2,
       "version_minor": 0
      },
      "text/plain": [
       "Output()"
      ]
     },
     "metadata": {},
     "output_type": "display_data"
    }
   ],
   "source": [
    "import ipywidgets as widgets\n",
    "from IPython.display import display\n",
    "\n",
    "# Define the Sandwich class and hacer_sandwich function\n",
    "class Sandwich:\n",
    "    def __init__(self, pan1, pan2, relleno):\n",
    "        self.pan1 = pan1\n",
    "        self.pan2 = pan2\n",
    "        self.relleno = relleno\n",
    "    \n",
    "    def __str__(self):\n",
    "        return f\"{self.pan1} {self.relleno} {self.pan2}\"\n",
    "\n",
    "def hacer_sandwich(pan1, pan2, relleno):\n",
    "    sandwich = Sandwich(pan1, pan2, relleno)\n",
    "    return f\"Sándwich pa ti, campeón: {sandwich}\"\n",
    "\n",
    "# Create an Output widget\n",
    "out2 = widgets.Output()\n",
    "\n",
    "# Create Text widgets for user input\n",
    "pan1_input = widgets.Text(\n",
    "    placeholder='Escribe el tipo de pan 1...',\n",
    "    description='Pan 1:',\n",
    "    disabled=False,\n",
    "    continuous_update=False\n",
    ")\n",
    "\n",
    "pan2_input = widgets.Text(\n",
    "    placeholder='Escribe el tipo de pan 2...',\n",
    "    description='Pan 2:',\n",
    "    disabled=False,\n",
    "    continuous_update=False\n",
    ")\n",
    "\n",
    "relleno_input = widgets.Text(\n",
    "    placeholder='Escribe el relleno...',\n",
    "    description='Relleno:',\n",
    "    disabled=False,\n",
    "    continuous_update=False\n",
    ")\n",
    "\n",
    "# Container for inputs\n",
    "input_container = widgets.VBox()\n",
    "\n",
    "# Variable to keep track of the current step\n",
    "step = 0\n",
    "\n",
    "# Function to handle key press events on the inputs\n",
    "def on_key_press(event):\n",
    "    global step\n",
    "    if event['name'] == 'value' and event['new'] != '':\n",
    "        # If Enter key is pressed\n",
    "        if step == 1 and event['owner'] is pan1_input:\n",
    "            input_container.children = [pan2_input]\n",
    "            step += 1\n",
    "        elif step == 2 and event['owner'] is pan2_input:\n",
    "            input_container.children = [relleno_input]\n",
    "            step += 1\n",
    "        elif step == 3 and event['owner'] is relleno_input:\n",
    "            input_container.children = []\n",
    "            # Get the user inputs\n",
    "            pan1 = pan1_input.value\n",
    "            pan2 = pan2_input.value\n",
    "            relleno = relleno_input.value\n",
    "            step = 0\n",
    "            # Call the hacer_sandwich function with user inputs\n",
    "            result = hacer_sandwich(pan1, pan2, relleno)\n",
    "            with out2:\n",
    "                out2.clear_output()\n",
    "                print(result)\n",
    "\n",
    "# Function to handle button clicks\n",
    "def on_button_clicked(_):\n",
    "    global step\n",
    "    step = 1\n",
    "    input_container.children = [pan1_input]\n",
    "\n",
    "# Link key press event to the inputs\n",
    "pan1_input.observe(on_key_press, names='value')\n",
    "pan2_input.observe(on_key_press, names='value')\n",
    "relleno_input.observe(on_key_press, names='value')\n",
    "\n",
    "# Create a button widget\n",
    "button = widgets.Button(\n",
    "    description='¡Haz click para hacer un sándwich!',\n",
    "    icon='hand-o-up'\n",
    ")\n",
    "\n",
    "# Link button and function together\n",
    "button.on_click(on_button_clicked)\n",
    "\n",
    "# Display the button, input container, and output\n",
    "display(button, input_container, out2)\n"
   ]
  },
  {
   "cell_type": "code",
   "execution_count": 4,
   "id": "e9cf7200-13ca-4194-a2d7-4c262b529b1c",
   "metadata": {
    "editable": true,
    "scene__Variables": true,
    "slideshow": {
     "slide_type": ""
    },
    "tags": [
     "ActiveScene"
    ]
   },
   "outputs": [
    {
     "data": {
      "application/vnd.jupyter.widget-view+json": {
       "model_id": "3f10b2cd6a564979a1ad424b42332466",
       "version_major": 2,
       "version_minor": 0
      },
      "text/plain": [
       "Button(description='¡Haz click para hacer un sándwich!', icon='hand-o-up', style=ButtonStyle())"
      ]
     },
     "metadata": {},
     "output_type": "display_data"
    },
    {
     "data": {
      "application/vnd.jupyter.widget-view+json": {
       "model_id": "95f2ff9411334c63b84b2fbc0a37a1f4",
       "version_major": 2,
       "version_minor": 0
      },
      "text/plain": [
       "VBox()"
      ]
     },
     "metadata": {},
     "output_type": "display_data"
    },
    {
     "data": {
      "application/vnd.jupyter.widget-view+json": {
       "model_id": "f7f39147bd4941169e576086ee04995a",
       "version_major": 2,
       "version_minor": 0
      },
      "text/plain": [
       "Output()"
      ]
     },
     "metadata": {},
     "output_type": "display_data"
    }
   ],
   "source": [
    "import ipywidgets as widgets\n",
    "from IPython.display import display\n",
    "from swiplserver import PrologMQI\n",
    "\n",
    "# Create an Output widget\n",
    "out3 = widgets.Output()\n",
    "\n",
    "# Create Text widgets for user input\n",
    "pan1_input2 = widgets.Text(\n",
    "    placeholder='Escribe el tipo de pan 1...',\n",
    "    description='Pan 1:',\n",
    "    disabled=False,\n",
    "    continuous_update=False\n",
    ")\n",
    "\n",
    "pan2_input2 = widgets.Text(\n",
    "    placeholder='Escribe el tipo de pan 2...',\n",
    "    description='Pan 2:',\n",
    "    disabled=False,\n",
    "    continuous_update=False\n",
    ")\n",
    "\n",
    "relleno_input2 = widgets.Text(\n",
    "    placeholder='Escribe el relleno...',\n",
    "    description='Relleno:',\n",
    "    disabled=False,\n",
    "    continuous_update=False\n",
    ")\n",
    "\n",
    "# Container for inputs\n",
    "input_container2 = widgets.VBox()\n",
    "\n",
    "# Variable to keep track of the current step\n",
    "step1 = 0\n",
    "\n",
    "# Function to handle key press events on the inputs\n",
    "def on_key_press(event):\n",
    "    global step1\n",
    "    if event['name'] == 'value' and event['new'] != '':\n",
    "        if step1 == 1 and event['owner'] is pan1_input2:\n",
    "            input_container2.children = [pan2_input2]\n",
    "            step1 += 1\n",
    "        elif step1 == 2 and event['owner'] is pan2_input2:\n",
    "            input_container2.children = [relleno_input2]\n",
    "            step1 += 1\n",
    "        elif step1 == 3 and event['owner'] is relleno_input2:\n",
    "            input_container2.children = []\n",
    "            step1 = 0\n",
    "            \n",
    "            # Get the user inputs\n",
    "            pan1 = pan1_input2.value\n",
    "            pan2 = pan2_input2.value\n",
    "            relleno = relleno_input2.value\n",
    "            \n",
    "            # Call the Prolog query with user inputs\n",
    "            with PrologMQI() as mqi:\n",
    "                with mqi.create_thread() as prolog_thread:\n",
    "                    prolog_thread.query(\"set_prolog_flag(encoding,utf8).\")\n",
    "                    try:\n",
    "                        prolog_thread.query(\"consult(\\\"ejemplos/sandwich.pl\\\")\")\n",
    "                        query = f\"hacer_sandwich({pan1},{pan2},{relleno}).\"\n",
    "                        prolog_thread.query_async(query, find_all=False)\n",
    "                        \n",
    "                        while True:\n",
    "                            result = prolog_thread.query_async_result()\n",
    "                            if result is False:\n",
    "                                with out3:\n",
    "                                    out3.clear_output()\n",
    "                                    print(\"QUE CLASE DE SANDWICH ME ESTAS ARMANDO, PEDAZO DE PSICOPATA\")\n",
    "                                    break\n",
    "                            else:\n",
    "                                with out3:\n",
    "                                    out3.clear_output()\n",
    "                                    print(result)\n",
    "                    except Exception as e:\n",
    "                        with out3:\n",
    "                            out3.clear_output()\n",
    "                            print(f\"Error: {e}\")\n",
    "\n",
    "# Function to handle button clicks\n",
    "def on_button_clicked(_):\n",
    "    global step1\n",
    "    step1 = 1\n",
    "    input_container2.children = [pan1_input2]\n",
    "\n",
    "# Link key press event to the inputs\n",
    "pan1_input2.observe(on_key_press, names='value')\n",
    "pan2_input2.observe(on_key_press, names='value')\n",
    "relleno_input2.observe(on_key_press, names='value')\n",
    "\n",
    "# Create a button widget\n",
    "button = widgets.Button(\n",
    "    description='¡Haz click para hacer un sándwich!',\n",
    "    icon='hand-o-up'\n",
    ")\n",
    "\n",
    "# Link button and function together\n",
    "button.on_click(on_button_clicked)\n",
    "\n",
    "# Display the button, input container, and output\n",
    "display(button, input_container2, out3)\n"
   ]
  },
  {
   "cell_type": "markdown",
   "id": "e4603392-20d8-4197-87ff-5dbf65c93e6f",
   "metadata": {},
   "source": [
    "Cambio de Paradigma: Imperativo vs. Declarativo"
   ]
  },
  {
   "cell_type": "markdown",
   "id": "ae7f3264-7b6e-4563-8cb7-5cef31671b66",
   "metadata": {},
   "source": [
    "### [Siguiente capítulo - Variables](Composicion/Variables.ipynb)\n",
    "### [Volver al índice](./Indice.ipynb)\n"
   ]
  },
  {
   "cell_type": "code",
   "execution_count": null,
   "id": "51a3a370-ec83-4020-b985-05c55e2b8db8",
   "metadata": {},
   "outputs": [],
   "source": []
  }
 ],
 "metadata": {
  "kernelspec": {
   "display_name": "Python 3 (ipykernel)",
   "language": "python",
   "name": "python3"
  },
  "language_info": {
   "codemirror_mode": {
    "name": "ipython",
    "version": 3
   },
   "file_extension": ".py",
   "mimetype": "text/x-python",
   "name": "python",
   "nbconvert_exporter": "python",
   "pygments_lexer": "ipython3",
   "version": "3.10.4"
  },
  "scenes_data": {
   "active_scene": "Variables",
   "init_scene": "Variables",
   "scenes": [
    "Variables"
   ]
  }
 },
 "nbformat": 4,
 "nbformat_minor": 5
}
