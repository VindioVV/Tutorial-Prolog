{
 "cells": [
  {
   "cell_type": "code",
   "execution_count": null,
   "id": "200ed2ce-68eb-4b72-a628-46bf49e27d19",
   "metadata": {},
   "outputs": [],
   "source": []
  },
  {
   "cell_type": "markdown",
   "id": "dc7b9cae-8ec1-43ab-bcea-c524d70a928f",
   "metadata": {
    "editable": true,
    "slideshow": {
     "slide_type": ""
    },
    "tags": []
   },
   "source": [
    "<!DOCTYPE html>\n",
    "<html lang=\"es\">\n",
    "<head>\n",
    "    <meta charset=\"UTF-8\">\n",
    "    <meta name=\"viewport\" content=\"width=device-width, initial-scale=1.0\">\n",
    "<style>\n",
    "    body {\n",
    "        font-family: Arial, sans-serif;\n",
    "        background-color: #000000;\n",
    "        margin: 0;\n",
    "        padding: 0;\n",
    "    }\n",
    "    .content {\n",
    "        max-width: 90%;\n",
    "        width: 150ch;\n",
    "        margin: 0 auto;\n",
    "        padding: 20px;\n",
    "        background-color: rgba(255, 255, 255, 0.8); \n",
    "        box-shadow: 0 0 20px rgba(0, 0, 0, 0.5);\n",
    "        border-top: 1px solid rgba(0, 0, 0, 0.5);\n",
    "    }\n",
    "    h1, h2, h3 {\n",
    "        color: #333;\n",
    "    }\n",
    "    a {\n",
    "        color: #1a73e8;\n",
    "        text-decoration: none;\n",
    "    }\n",
    "    a:hover {\n",
    "        text-decoration: underline;\n",
    "    }\n",
    "    em {\n",
    "        font-style: italic;\n",
    "    }\n",
    "    strong {\n",
    "        font-weight: bold;\n",
    "    }\n",
    "    @media (max-width: 1290px) {\n",
    "        .content {\n",
    "            max-width: 80%; \n",
    "            padding: 20px;\n",
    "            width: 120ch; \n",
    "        }\n",
    "    }\n",
    "    @media (max-width: 480px) {\n",
    "        .content {\n",
    "            max-width: 100%;\n",
    "            padding: 20px; \n",
    "        }\n",
    "    }\n",
    "</style>\n",
    "</head>\n",
    "<body>\n",
    "    <div class=\"content\">\n",
    "      <h1 id=\"prolog-27mg-\">Prolog - 27mg.</h1>\n",
    "<h2 id=\"i-qu-es-prolog-27-mg-y-para-qu-se-utiliza-\">I. ¿Qué es Prolog 27.mg y para qué se utiliza?</h2>\n",
    "<h3 id=\"-antecedentes-introduccion-antecedentes-ipynb-\">- <a href=\"Introduccion/Antecedentes.ipynb\">Antecedentes</a></h3>\n",
    "<h3 id=\"-utilidad-pr-ctica-de-prolog-introduccion-beneficios-ipynb-\">- <a href=\"Introduccion/Beneficios.ipynb\">Utilidad práctica de Prolog</a></h3>\n",
    "<h3 id=\"-paradigmas-de-programaci-n-introduccion-paradigmas-ipynb-\">- <a href=\"Introduccion/Paradigmas.ipynb\">Paradigmas de programación</a></h3>\n",
    "<h2 id=\"ii-composici-n-de-prolog-27-mg-\">II. Composición de Prolog 27 mg.</h2>\n",
    "<h3 id=\"-sistemas-basados-en-reglas-introduccion-sbr-ipynb-\">- <a href=\"Introduccion/SBR.ipynb\">Sistemas basados en reglas</a></h3>\n",
    "<h3 id=\"-backtracking-composicion-backtracking-ipynb-\">- <a href=\"Composicion/Backtracking.ipynb\">Backtracking</a></h3>\n",
    "<h3 id=\"-unificaci-n-composicion-unificacion-ipynb-\">- <a href=\"Composicion/Unificacion.ipynb\">Unificación</a></h3>\n",
    "<h2 id=\"iii-modo-de-uso-\">III. Modo de uso.</h2>\n",
    "<h3 id=\"-como-utilizar-prolog-basico-predicados-ipynb-\">- <a href=\"Basico/Predicados.ipynb\">Como utilizar Prolog</a></h3>\n",
    "<h3 id=\"-posolog-a-de-prolog-basico-elementos-ipynb-\">- <a href=\"Basico/Elementos.ipynb\">Posología de Prolog</a></h3>\n",
    "<h3 id=\"-operadores-de-prolog-basico-operadores-ipynb-\">- <a href=\"Basico/Operadores.ipynb\">Operadores de Prolog</a></h3>\n",
    "<h2 id=\"iv-modo-de-uso-_intermedio_-\">IV. Modo de uso <em>intermedio</em>.</h2>\n",
    "<h3 id=\"-variables-intermedio-variables-ipynb-\">- <a href=\"Intermedio/Variables.ipynb\">Variables</a></h3>\n",
    "<h3 id=\"-m-s-variables-y-recursividad-intermedio-recursividad-ipynb-\">- <a href=\"Intermedio/Recursividad.ipynb\"><strong>Más</strong> variables y recursividad</a></h3>\n",
    "<h3 id=\"-estructuras-de-datos-intermedio-estructuras-ipynb-\">- <a href=\"Intermedio/Estructuras.ipynb\">Estructuras de datos</a></h3>\n",
    "<h2 id=\"v-modo-de-uso-__avanzado__-\">V. Modo de uso <strong>avanzado</strong>.</h2>\n",
    "<h3 id=\"-metapredicados-y-predicados-de-control-avanzado-meta-ipynb-\">- <a href=\"Avanzado/Meta.ipynb\">Metapredicados y predicados de control</a></h3>\n",
    "<h3 id=\"-listas-avanzado-listas-ipynb-\">- <a href=\"Avanzado/Listas.ipynb\">Listas</a></h3>\n",
    "<h3 id=\"-buenas-pr-cticas-complejidad-y-eficiencia-en-prolog-avanzado-sermon-ipynb-\">- <a href=\"Avanzado/Sermon.ipynb\">Buenas prácticas, complejidad y eficiencia en Prolog</a></h3>\n"
   ]
  },
  {
   "cell_type": "code",
   "execution_count": null,
   "id": "220fabf0-cc81-4532-8b48-44c94ec4ba45",
   "metadata": {},
   "outputs": [],
   "source": []
  }
 ],
 "metadata": {
  "kernelspec": {
   "display_name": "Python 3 (ipykernel)",
   "language": "python",
   "name": "python3"
  },
  "language_info": {
   "codemirror_mode": {
    "name": "ipython",
    "version": 3
   },
   "file_extension": ".py",
   "mimetype": "text/x-python",
   "name": "python",
   "nbconvert_exporter": "python",
   "pygments_lexer": "ipython3",
   "version": "3.10.4"
  }
 },
 "nbformat": 4,
 "nbformat_minor": 5
}
